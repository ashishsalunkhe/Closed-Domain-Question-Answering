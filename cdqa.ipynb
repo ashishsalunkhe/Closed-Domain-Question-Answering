{
  "nbformat": 4,
  "nbformat_minor": 0,
  "metadata": {
    "hide_input": false,
    "kernelspec": {
      "display_name": "Python 3",
      "language": "python",
      "name": "python3"
    },
    "language_info": {
      "codemirror_mode": {
        "name": "ipython",
        "version": 3
      },
      "file_extension": ".py",
      "mimetype": "text/x-python",
      "name": "python",
      "nbconvert_exporter": "python",
      "pygments_lexer": "ipython3",
      "version": "3.6.8"
    },
    "toc": {
      "base_numbering": 1,
      "nav_menu": {},
      "number_sections": true,
      "sideBar": true,
      "skip_h1_title": false,
      "title_cell": "Table of Contents",
      "title_sidebar": "Contents",
      "toc_cell": false,
      "toc_position": {},
      "toc_section_display": true,
      "toc_window_display": false
    },
    "varInspector": {
      "cols": {
        "lenName": 16,
        "lenType": 16,
        "lenVar": 40
      },
      "kernels_config": {
        "python": {
          "delete_cmd_postfix": "",
          "delete_cmd_prefix": "del ",
          "library": "var_list.py",
          "varRefreshCmd": "print(var_dic_list())"
        },
        "r": {
          "delete_cmd_postfix": ") ",
          "delete_cmd_prefix": "rm(",
          "library": "var_list.r",
          "varRefreshCmd": "cat(var_dic_list()) "
        }
      },
      "types_to_exclude": [
        "module",
        "function",
        "builtin_function_or_method",
        "instance",
        "_Feature"
      ],
      "window_display": false
    },
    "colab": {
      "name": "cdqa.ipynb",
      "provenance": [],
      "toc_visible": true,
      "include_colab_link": true
    }
  },
  "cells": [
    {
      "cell_type": "markdown",
      "metadata": {
        "id": "view-in-github",
        "colab_type": "text"
      },
      "source": [
        "<a href=\"https://colab.research.google.com/github/ashishsalunkhe/Closed-Domain-Question-Answering/blob/master/cdqa.ipynb\" target=\"_parent\"><img src=\"https://colab.research.google.com/assets/colab-badge.svg\" alt=\"Open In Colab\"/></a>"
      ]
    },
    {
      "cell_type": "code",
      "metadata": {
        "id": "8dwb3mIFKuIx",
        "colab_type": "code",
        "outputId": "889392d2-49f7-4932-d2d6-87eca00d8ad8",
        "colab": {
          "base_uri": "https://localhost:8080/",
          "height": 1000
        }
      },
      "source": [
        "!pip install cdqa"
      ],
      "execution_count": 1,
      "outputs": [
        {
          "output_type": "stream",
          "text": [
            "Collecting cdqa\n",
            "\u001b[?25l  Downloading https://files.pythonhosted.org/packages/c2/02/ff021d2a34da02090b1e949e0edf354252668fb006e326def5c5e2b2bdcd/cdqa-1.3.5.tar.gz (56kB)\n",
            "\r\u001b[K     |█████▉                          | 10kB 15.9MB/s eta 0:00:01\r\u001b[K     |███████████▋                    | 20kB 1.8MB/s eta 0:00:01\r\u001b[K     |█████████████████▍              | 30kB 2.6MB/s eta 0:00:01\r\u001b[K     |███████████████████████▏        | 40kB 1.7MB/s eta 0:00:01\r\u001b[K     |█████████████████████████████   | 51kB 2.1MB/s eta 0:00:01\r\u001b[K     |████████████████████████████████| 61kB 2.0MB/s \n",
            "\u001b[?25hRequirement already satisfied: Flask in /usr/local/lib/python3.6/dist-packages (from cdqa) (1.1.1)\n",
            "Collecting flask_cors\n",
            "  Downloading https://files.pythonhosted.org/packages/78/38/e68b11daa5d613e3a91e4bf3da76c94ac9ee0d9cd515af9c1ab80d36f709/Flask_Cors-3.0.8-py2.py3-none-any.whl\n",
            "Requirement already satisfied: joblib in /usr/local/lib/python3.6/dist-packages (from cdqa) (0.14.0)\n",
            "Requirement already satisfied: pandas in /usr/local/lib/python3.6/dist-packages (from cdqa) (0.25.3)\n",
            "Requirement already satisfied: prettytable in /usr/local/lib/python3.6/dist-packages (from cdqa) (0.7.2)\n",
            "Collecting pytorch_pretrained_bert\n",
            "\u001b[?25l  Downloading https://files.pythonhosted.org/packages/d7/e0/c08d5553b89973d9a240605b9c12404bcf8227590de62bae27acbcfe076b/pytorch_pretrained_bert-0.6.2-py3-none-any.whl (123kB)\n",
            "\u001b[K     |████████████████████████████████| 133kB 8.3MB/s \n",
            "\u001b[?25hRequirement already satisfied: scikit_learn in /usr/local/lib/python3.6/dist-packages (from cdqa) (0.21.3)\n",
            "Collecting tika\n",
            "  Downloading https://files.pythonhosted.org/packages/10/75/b566e446ffcf292f10c8d84c15a3d91615fe3d7ca8072a17c949d4e84b66/tika-1.19.tar.gz\n",
            "Requirement already satisfied: markdown in /usr/local/lib/python3.6/dist-packages (from cdqa) (3.1.1)\n",
            "Requirement already satisfied: tqdm in /usr/local/lib/python3.6/dist-packages (from cdqa) (4.28.1)\n",
            "Collecting wget\n",
            "  Downloading https://files.pythonhosted.org/packages/47/6a/62e288da7bcda82b935ff0c6cfe542970f04e29c756b0e147251b2fb251f/wget-3.2.zip\n",
            "Requirement already satisfied: Werkzeug>=0.15 in /usr/local/lib/python3.6/dist-packages (from Flask->cdqa) (0.16.0)\n",
            "Requirement already satisfied: Jinja2>=2.10.1 in /usr/local/lib/python3.6/dist-packages (from Flask->cdqa) (2.10.3)\n",
            "Requirement already satisfied: itsdangerous>=0.24 in /usr/local/lib/python3.6/dist-packages (from Flask->cdqa) (1.1.0)\n",
            "Requirement already satisfied: click>=5.1 in /usr/local/lib/python3.6/dist-packages (from Flask->cdqa) (7.0)\n",
            "Requirement already satisfied: Six in /usr/local/lib/python3.6/dist-packages (from flask_cors->cdqa) (1.12.0)\n",
            "Requirement already satisfied: python-dateutil>=2.6.1 in /usr/local/lib/python3.6/dist-packages (from pandas->cdqa) (2.6.1)\n",
            "Requirement already satisfied: numpy>=1.13.3 in /usr/local/lib/python3.6/dist-packages (from pandas->cdqa) (1.17.3)\n",
            "Requirement already satisfied: pytz>=2017.2 in /usr/local/lib/python3.6/dist-packages (from pandas->cdqa) (2018.9)\n",
            "Requirement already satisfied: requests in /usr/local/lib/python3.6/dist-packages (from pytorch_pretrained_bert->cdqa) (2.21.0)\n",
            "Requirement already satisfied: boto3 in /usr/local/lib/python3.6/dist-packages (from pytorch_pretrained_bert->cdqa) (1.10.7)\n",
            "Requirement already satisfied: torch>=0.4.1 in /usr/local/lib/python3.6/dist-packages (from pytorch_pretrained_bert->cdqa) (1.3.0+cu100)\n",
            "Collecting regex\n",
            "\u001b[?25l  Downloading https://files.pythonhosted.org/packages/e3/8e/cbf2295643d7265e7883326fb4654e643bfc93b3a8a8274d8010a39d8804/regex-2019.11.1-cp36-cp36m-manylinux1_x86_64.whl (643kB)\n",
            "\u001b[K     |████████████████████████████████| 645kB 50.2MB/s \n",
            "\u001b[?25hRequirement already satisfied: scipy>=0.17.0 in /usr/local/lib/python3.6/dist-packages (from scikit_learn->cdqa) (1.3.1)\n",
            "Requirement already satisfied: setuptools in /usr/local/lib/python3.6/dist-packages (from tika->cdqa) (41.4.0)\n",
            "Requirement already satisfied: MarkupSafe>=0.23 in /usr/local/lib/python3.6/dist-packages (from Jinja2>=2.10.1->Flask->cdqa) (1.1.1)\n",
            "Requirement already satisfied: urllib3<1.25,>=1.21.1 in /usr/local/lib/python3.6/dist-packages (from requests->pytorch_pretrained_bert->cdqa) (1.24.3)\n",
            "Requirement already satisfied: chardet<3.1.0,>=3.0.2 in /usr/local/lib/python3.6/dist-packages (from requests->pytorch_pretrained_bert->cdqa) (3.0.4)\n",
            "Requirement already satisfied: idna<2.9,>=2.5 in /usr/local/lib/python3.6/dist-packages (from requests->pytorch_pretrained_bert->cdqa) (2.8)\n",
            "Requirement already satisfied: certifi>=2017.4.17 in /usr/local/lib/python3.6/dist-packages (from requests->pytorch_pretrained_bert->cdqa) (2019.9.11)\n",
            "Requirement already satisfied: jmespath<1.0.0,>=0.7.1 in /usr/local/lib/python3.6/dist-packages (from boto3->pytorch_pretrained_bert->cdqa) (0.9.4)\n",
            "Requirement already satisfied: s3transfer<0.3.0,>=0.2.0 in /usr/local/lib/python3.6/dist-packages (from boto3->pytorch_pretrained_bert->cdqa) (0.2.1)\n",
            "Requirement already satisfied: botocore<1.14.0,>=1.13.7 in /usr/local/lib/python3.6/dist-packages (from boto3->pytorch_pretrained_bert->cdqa) (1.13.7)\n",
            "Requirement already satisfied: docutils<0.16,>=0.10 in /usr/local/lib/python3.6/dist-packages (from botocore<1.14.0,>=1.13.7->boto3->pytorch_pretrained_bert->cdqa) (0.15.2)\n",
            "Building wheels for collected packages: cdqa, tika, wget\n",
            "  Building wheel for cdqa (setup.py) ... \u001b[?25l\u001b[?25hdone\n",
            "  Created wheel for cdqa: filename=cdqa-1.3.5-cp36-none-any.whl size=59618 sha256=e30242e8e3229dc67dce59482b59e295634c2d347357e7a1629b6759b4225c1e\n",
            "  Stored in directory: /root/.cache/pip/wheels/96/7e/86/505f87a5edf9f69a11e296b877bfb985904a1ed6c85e0892d0\n",
            "  Building wheel for tika (setup.py) ... \u001b[?25l\u001b[?25hdone\n",
            "  Created wheel for tika: filename=tika-1.19-cp36-none-any.whl size=29224 sha256=b0ae47623747708de0e70e1910e11ad122a10030b6dbe22d1b8f089c9f18fe7c\n",
            "  Stored in directory: /root/.cache/pip/wheels/b4/db/8a/3a3f0c0725448eaa92703e3dda71e29dc13a119ff6c1036848\n",
            "  Building wheel for wget (setup.py) ... \u001b[?25l\u001b[?25hdone\n",
            "  Created wheel for wget: filename=wget-3.2-cp36-none-any.whl size=9681 sha256=11d055dfd3938d710bbf3563a0aa8820c87fcfbf782df80f5f8084c4bef2e3a1\n",
            "  Stored in directory: /root/.cache/pip/wheels/40/15/30/7d8f7cea2902b4db79e3fea550d7d7b85ecb27ef992b618f3f\n",
            "Successfully built cdqa tika wget\n",
            "Installing collected packages: flask-cors, regex, pytorch-pretrained-bert, tika, wget, cdqa\n",
            "Successfully installed cdqa-1.3.5 flask-cors-3.0.8 pytorch-pretrained-bert-0.6.2 regex-2019.11.1 tika-1.19 wget-3.2\n"
          ],
          "name": "stdout"
        }
      ]
    },
    {
      "cell_type": "code",
      "metadata": {
        "id": "cqfVhzE5KyTf",
        "colab_type": "code",
        "outputId": "b8a59a3a-05e3-4a0e-c72b-7e630ff0fa12",
        "colab": {
          "base_uri": "https://localhost:8080/",
          "height": 132
        }
      },
      "source": [
        "from google.colab import drive\n",
        "drive.mount('/content/drive')"
      ],
      "execution_count": 2,
      "outputs": [
        {
          "output_type": "stream",
          "text": [
            "Go to this URL in a browser: https://accounts.google.com/o/oauth2/auth?client_id=947318989803-6bn6qk8qdgf4n4g3pfee6491hc0brc4i.apps.googleusercontent.com&redirect_uri=urn%3Aietf%3Awg%3Aoauth%3A2.0%3Aoob&scope=email%20https%3A%2F%2Fwww.googleapis.com%2Fauth%2Fdocs.test%20https%3A%2F%2Fwww.googleapis.com%2Fauth%2Fdrive%20https%3A%2F%2Fwww.googleapis.com%2Fauth%2Fdrive.photos.readonly%20https%3A%2F%2Fwww.googleapis.com%2Fauth%2Fpeopleapi.readonly&response_type=code\n",
            "\n",
            "Enter your authorization code:\n",
            "··········\n",
            "Mounted at /content/drive\n"
          ],
          "name": "stdout"
        }
      ]
    },
    {
      "cell_type": "code",
      "metadata": {
        "ExecuteTime": {
          "end_time": "2019-07-20T13:32:09.138284Z",
          "start_time": "2019-07-20T13:32:01.868622Z"
        },
        "id": "mwCVEMo8iuNf",
        "colab_type": "code",
        "outputId": "2b491473-67ae-410a-9e5f-5e9173e5f386",
        "colab": {
          "base_uri": "https://localhost:8080/",
          "height": 75
        }
      },
      "source": [
        "import os\n",
        "import pandas as pd\n",
        "from ast import literal_eval\n",
        "\n",
        "from cdqa.utils.filters import filter_paragraphs\n",
        "from cdqa.pipeline import QAPipeline"
      ],
      "execution_count": 3,
      "outputs": [
        {
          "output_type": "stream",
          "text": [
            "/usr/local/lib/python3.6/dist-packages/tqdm/autonotebook/__init__.py:14: TqdmExperimentalWarning: Using `tqdm.autonotebook.tqdm` in notebook mode. Use `tqdm.tqdm` instead to force console mode (e.g. in jupyter console)\n",
            "  \" (e.g. in jupyter console)\", TqdmExperimentalWarning)\n"
          ],
          "name": "stderr"
        }
      ]
    },
    {
      "cell_type": "code",
      "metadata": {
        "ExecuteTime": {
          "end_time": "2019-07-20T13:33:36.002880Z",
          "start_time": "2019-07-20T13:32:10.618797Z"
        },
        "id": "PNHWP9YHiuNq",
        "colab_type": "code",
        "outputId": "f82c6125-1e9e-4d49-ec1b-3f6db487c428",
        "colab": {
          "base_uri": "https://localhost:8080/",
          "height": 131
        }
      },
      "source": [
        "from cdqa.utils.download import download_model, download_bnpp_data\n",
        "\n",
        "download_bnpp_data(dir='/content/drive/My Drive/CDQA/bnpp_newsroom_v1.1/')\n",
        "download_model(model='bert-squad_1.1', dir='/content/drive/My Drive/CDQA/models')"
      ],
      "execution_count": 4,
      "outputs": [
        {
          "output_type": "stream",
          "text": [
            "\n",
            "Downloading BNP data...\n",
            "bnpp_newsroom-v1.1.csv already downloaded\n",
            "\n",
            "Downloading trained model...\n",
            "bert_qa_vCPU-sklearn.joblib already downloaded\n"
          ],
          "name": "stdout"
        }
      ]
    },
    {
      "cell_type": "code",
      "metadata": {
        "id": "3Age06EEVmed",
        "colab_type": "code",
        "colab": {}
      },
      "source": [
        "df_qa = pd.read_csv('/content/drive/My Drive/CDQA/politics18.csv')"
      ],
      "execution_count": 0,
      "outputs": []
    },
    {
      "cell_type": "code",
      "metadata": {
        "id": "UKxa9FBWVt-Y",
        "colab_type": "code",
        "colab": {
          "base_uri": "https://localhost:8080/",
          "height": 306
        },
        "outputId": "1a9fde8e-cfca-47bb-fd03-c61019264689"
      },
      "source": [
        "df_qa.head()"
      ],
      "execution_count": 15,
      "outputs": [
        {
          "output_type": "execute_result",
          "data": {
            "text/html": [
              "<div>\n",
              "<style scoped>\n",
              "    .dataframe tbody tr th:only-of-type {\n",
              "        vertical-align: middle;\n",
              "    }\n",
              "\n",
              "    .dataframe tbody tr th {\n",
              "        vertical-align: top;\n",
              "    }\n",
              "\n",
              "    .dataframe thead th {\n",
              "        text-align: right;\n",
              "    }\n",
              "</style>\n",
              "<table border=\"1\" class=\"dataframe\">\n",
              "  <thead>\n",
              "    <tr style=\"text-align: right;\">\n",
              "      <th></th>\n",
              "      <th>author</th>\n",
              "      <th>content</th>\n",
              "      <th>date</th>\n",
              "      <th>tag</th>\n",
              "      <th>title</th>\n",
              "      <th>url</th>\n",
              "      <th>website</th>\n",
              "    </tr>\n",
              "  </thead>\n",
              "  <tbody>\n",
              "    <tr>\n",
              "      <th>0</th>\n",
              "      <td>The Quint</td>\n",
              "      <td>Tulsi Gabbard, the first Hindu lawmaker from H...</td>\n",
              "      <td>2018-11-13</td>\n",
              "      <td>Tulsi Gabbard</td>\n",
              "      <td>Tulsi Gabbard: Hindu War Veteran US Lawmaker M...</td>\n",
              "      <td>https://www.thequint.com/news/world/tulsi-gabb...</td>\n",
              "      <td>quint</td>\n",
              "    </tr>\n",
              "    <tr>\n",
              "      <th>1</th>\n",
              "      <td>Pushpesh Pant</td>\n",
              "      <td>Swami Vivekananda ranks among the highest in t...</td>\n",
              "      <td>2018-07-03</td>\n",
              "      <td>Swami Vivekananda,Hinduism,Tolerance,Politics ...</td>\n",
              "      <td>Swami Vivekananda’s 156th Birth Anniversary 20...</td>\n",
              "      <td>https://www.thequint.com/voices/opinion/swami-...</td>\n",
              "      <td>quint</td>\n",
              "    </tr>\n",
              "    <tr>\n",
              "      <th>2</th>\n",
              "      <td>Meeran Chadha Borwankar</td>\n",
              "      <td>In the news for the wrong reasons, the Central...</td>\n",
              "      <td>2018-07-18</td>\n",
              "      <td>Modi Government,Central Bureau of Investigatio...</td>\n",
              "      <td>Rift Between CBI Chief &amp; Special Director: Thi...</td>\n",
              "      <td>https://www.thequint.com/voices/opinion/cbi-co...</td>\n",
              "      <td>quint</td>\n",
              "    </tr>\n",
              "    <tr>\n",
              "      <th>3</th>\n",
              "      <td>Mayukh Ghosh</td>\n",
              "      <td>Reminiscing about the past is a dreadful tool ...</td>\n",
              "      <td>2018-05-14</td>\n",
              "      <td>Satyajit Ray,Shyam Benegal,Smita Patil,Politic...</td>\n",
              "      <td>The Late Filmmaker Mrinal Sen’s ‘Cinema of Res...</td>\n",
              "      <td>https://www.thequint.com/entertainment/indian-...</td>\n",
              "      <td>quint</td>\n",
              "    </tr>\n",
              "    <tr>\n",
              "      <th>4</th>\n",
              "      <td>Akanksha Kumar</td>\n",
              "      <td>: Akanksha Kumar : Sandeep Suman Twenty-three ...</td>\n",
              "      <td>2018-04-30</td>\n",
              "      <td>Tihar Jail,Supreme Court of India,Life Impriso...</td>\n",
              "      <td>Tandoor Murder: Former Delhi Police Joint Comm...</td>\n",
              "      <td>https://www.thequint.com/videos/news-videos/ho...</td>\n",
              "      <td>quint</td>\n",
              "    </tr>\n",
              "  </tbody>\n",
              "</table>\n",
              "</div>"
            ],
            "text/plain": [
              "                    author  ... website\n",
              "0                The Quint  ...   quint\n",
              "1            Pushpesh Pant  ...   quint\n",
              "2  Meeran Chadha Borwankar  ...   quint\n",
              "3             Mayukh Ghosh  ...   quint\n",
              "4           Akanksha Kumar  ...   quint\n",
              "\n",
              "[5 rows x 7 columns]"
            ]
          },
          "metadata": {
            "tags": []
          },
          "execution_count": 15
        }
      ]
    },
    {
      "cell_type": "code",
      "metadata": {
        "ExecuteTime": {
          "end_time": "2019-07-20T13:35:00.377971Z",
          "start_time": "2019-07-20T13:34:59.764491Z"
        },
        "id": "SFm4Sh6wiuNx",
        "colab_type": "code",
        "outputId": "751ee389-987d-4e19-e1e4-b91a3620e04e",
        "colab": {
          "base_uri": "https://localhost:8080/",
          "height": 272
        }
      },
      "source": [
        "df = pd.read_csv('/content/drive/My Drive/CDQA/bnpp_newsroom_v1.1/bnpp_newsroom-v1.1.csv', converters={'paragraphs': literal_eval})\n",
        "df = filter_paragraphs(df)\n",
        "df.head()"
      ],
      "execution_count": 12,
      "outputs": [
        {
          "output_type": "execute_result",
          "data": {
            "text/html": [
              "<div>\n",
              "<style scoped>\n",
              "    .dataframe tbody tr th:only-of-type {\n",
              "        vertical-align: middle;\n",
              "    }\n",
              "\n",
              "    .dataframe tbody tr th {\n",
              "        vertical-align: top;\n",
              "    }\n",
              "\n",
              "    .dataframe thead th {\n",
              "        text-align: right;\n",
              "    }\n",
              "</style>\n",
              "<table border=\"1\" class=\"dataframe\">\n",
              "  <thead>\n",
              "    <tr style=\"text-align: right;\">\n",
              "      <th></th>\n",
              "      <th>date</th>\n",
              "      <th>title</th>\n",
              "      <th>category</th>\n",
              "      <th>link</th>\n",
              "      <th>abstract</th>\n",
              "      <th>paragraphs</th>\n",
              "    </tr>\n",
              "  </thead>\n",
              "  <tbody>\n",
              "    <tr>\n",
              "      <th>0</th>\n",
              "      <td>13.05.2019</td>\n",
              "      <td>The banking jobs : Assistant Vice President – ...</td>\n",
              "      <td>Careers</td>\n",
              "      <td>https://group.bnpparibas/en/news/banking-jobs-...</td>\n",
              "      <td>Within the Group’s Corporate and Institutional...</td>\n",
              "      <td>[I manage a team in charge of designing and im...</td>\n",
              "    </tr>\n",
              "    <tr>\n",
              "      <th>1</th>\n",
              "      <td>13.05.2019</td>\n",
              "      <td>BNP Paribas at #VivaTech : discover the progra...</td>\n",
              "      <td>Innovation</td>\n",
              "      <td>https://group.bnpparibas/en/news/bnp-paribas-v...</td>\n",
              "      <td>From Thursday 16 to Saturday 18 May 2019, join...</td>\n",
              "      <td>[With François Hollande, Chairman of French fo...</td>\n",
              "    </tr>\n",
              "    <tr>\n",
              "      <th>2</th>\n",
              "      <td>13.05.2019</td>\n",
              "      <td>\"The bank with an IT budget of more than EUR6 ...</td>\n",
              "      <td>Group</td>\n",
              "      <td>https://group.bnpparibas/en/news/the-bank-budg...</td>\n",
              "      <td>Interview with Jean-Laurent Bonnafé, Director ...</td>\n",
              "      <td>[We did the groundwork between 2012 and 2016, ...</td>\n",
              "    </tr>\n",
              "    <tr>\n",
              "      <th>3</th>\n",
              "      <td>10.05.2019</td>\n",
              "      <td>BNP Paribas at #VivaTech : discover the progra...</td>\n",
              "      <td>Innovation</td>\n",
              "      <td>https://group.bnpparibas/en/news/bnp-paribas-v...</td>\n",
              "      <td>From Thursday 16 to Saturday 18 May 2019, join...</td>\n",
              "      <td>[As part of the ‘United Tech of Europe’ theme,...</td>\n",
              "    </tr>\n",
              "    <tr>\n",
              "      <th>4</th>\n",
              "      <td>10.05.2019</td>\n",
              "      <td>When Artificial Intelligence participates in r...</td>\n",
              "      <td>Careers</td>\n",
              "      <td>https://group.bnpparibas/en/news/artificial-in...</td>\n",
              "      <td>As the competition to attract talent intensifi...</td>\n",
              "      <td>[Online recruitment is already the norm. Accor...</td>\n",
              "    </tr>\n",
              "  </tbody>\n",
              "</table>\n",
              "</div>"
            ],
            "text/plain": [
              "         date  ...                                         paragraphs\n",
              "0  13.05.2019  ...  [I manage a team in charge of designing and im...\n",
              "1  13.05.2019  ...  [With François Hollande, Chairman of French fo...\n",
              "2  13.05.2019  ...  [We did the groundwork between 2012 and 2016, ...\n",
              "3  10.05.2019  ...  [As part of the ‘United Tech of Europe’ theme,...\n",
              "4  10.05.2019  ...  [Online recruitment is already the norm. Accor...\n",
              "\n",
              "[5 rows x 6 columns]"
            ]
          },
          "metadata": {
            "tags": []
          },
          "execution_count": 12
        }
      ]
    },
    {
      "cell_type": "code",
      "metadata": {
        "ExecuteTime": {
          "end_time": "2019-07-20T13:35:07.072516Z",
          "start_time": "2019-07-20T13:35:02.764545Z"
        },
        "id": "4rqG7hooiuN6",
        "colab_type": "code",
        "outputId": "05d61429-761b-4a4a-e4a6-6702dd5c8ce0",
        "colab": {
          "base_uri": "https://localhost:8080/",
          "height": 340
        }
      },
      "source": [
        "cdqa_pipeline = QAPipeline(reader='/content/drive/My Drive/CDQA//models/bert_qa_vCPU-sklearn.joblib')\n",
        "cdqa_pipeline.fit_retriever(df=df)"
      ],
      "execution_count": 6,
      "outputs": [
        {
          "output_type": "stream",
          "text": [
            "100%|██████████| 231508/231508 [00:00<00:00, 5788361.05B/s]\n"
          ],
          "name": "stderr"
        },
        {
          "output_type": "execute_result",
          "data": {
            "text/plain": [
              "QAPipeline(reader=BertQA(bert_model='bert-base-uncased', do_lower_case=True,\n",
              "                         fp16=False, gradient_accumulation_steps=1,\n",
              "                         learning_rate=3e-05, local_rank=-1, loss_scale=0,\n",
              "                         max_answer_length=30, n_best_size=20, no_cuda=False,\n",
              "                         null_score_diff_threshold=0.0, num_train_epochs=2,\n",
              "                         output_dir=None, predict_batch_size=8, seed=42,\n",
              "                         server_ip='', server_port='', train_batch_size=8,\n",
              "                         verbose_logging=False, version_2_with_negative=False,\n",
              "                         warmup_proportion=0.1),\n",
              "           retrieve_by_doc=False,\n",
              "           retriever=BM25Retriever(b=0.75, floor=None, k1=2.0, lowercase=True,\n",
              "                                   max_df=0.85, min_df=2, ngram_range=(1, 2),\n",
              "                                   preprocessor=None, stop_words='english',\n",
              "                                   token_pattern='(?u)\\\\b\\\\w\\\\w+\\\\b',\n",
              "                                   tokenizer=None, top_n=20, verbose=False,\n",
              "                                   vocabulary=None))"
            ]
          },
          "metadata": {
            "tags": []
          },
          "execution_count": 6
        }
      ]
    },
    {
      "cell_type": "code",
      "metadata": {
        "ExecuteTime": {
          "end_time": "2019-07-20T13:35:37.973867Z",
          "start_time": "2019-07-20T13:35:22.104799Z"
        },
        "id": "L1XN1gFdiuOB",
        "colab_type": "code",
        "colab": {}
      },
      "source": [
        "query = 'Since when does the Excellence Program of BNP Paribas exist?'\n",
        "prediction = cdqa_pipeline.predict(query)"
      ],
      "execution_count": 0,
      "outputs": []
    },
    {
      "cell_type": "code",
      "metadata": {
        "ExecuteTime": {
          "end_time": "2019-06-25T14:21:26.561003Z",
          "start_time": "2019-06-25T14:21:26.549540Z"
        },
        "id": "fmd9ffzviuOI",
        "colab_type": "code",
        "outputId": "20db828f-06c0-4b11-e06c-26e404d57ff9",
        "colab": {
          "base_uri": "https://localhost:8080/",
          "height": 113
        }
      },
      "source": [
        "print('query: {}'.format(query))\n",
        "print('answer: {}'.format(prediction[0]))\n",
        "print('title: {}'.format(prediction[1]))\n",
        "print('paragraph: {}'.format(prediction[2]))"
      ],
      "execution_count": 8,
      "outputs": [
        {
          "output_type": "stream",
          "text": [
            "query: Since when does the Excellence Program of BNP Paribas exist?\n",
            "answer: January 2016\n",
            "title: BNP Paribas’ commitment to universities and schools\n",
            "paragraph: Since January 2016, BNP Paribas has offered an Excellence Program targeting new Master’s level graduates (BAC+5) who show high potential. The aid program lasts 18 months and comprises three assignments of six months each. It serves as a strong career accelerator that enables participants to access high-level management positions at a faster rate. The program allows participants to discover the BNP Paribas Group and its various entities in France and abroad, build an internal and external network by working on different assignments and receive personalized assistance from a mentor and coaching firm at every step along the way.\n"
          ],
          "name": "stdout"
        }
      ]
    },
    {
      "cell_type": "code",
      "metadata": {
        "id": "gbG_S5tAOyr7",
        "colab_type": "code",
        "colab": {}
      },
      "source": [
        ""
      ],
      "execution_count": 0,
      "outputs": []
    }
  ]
}